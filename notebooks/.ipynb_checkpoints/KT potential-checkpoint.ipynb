{
 "cells": [
  {
   "cell_type": "code",
   "execution_count": 1,
   "metadata": {
    "ExecuteTime": {
     "end_time": "2019-07-21T21:04:28.004039Z",
     "start_time": "2019-07-21T21:04:27.529840Z"
    }
   },
   "outputs": [
    {
     "name": "stdout",
     "output_type": "stream",
     "text": [
      "Populating the interactive namespace from numpy and matplotlib\n"
     ]
    }
   ],
   "source": [
    "%pylab inline\n",
    "from scipy.special import gamma, polygamma, loggamma\n",
    "import numpy as np"
   ]
  },
  {
   "cell_type": "markdown",
   "metadata": {},
   "source": [
    "### Define potential function"
   ]
  },
  {
   "cell_type": "markdown",
   "metadata": {},
   "source": [
    "<p><img alt=\"\" src=\"Figs/KT_potential.png\" style=\"height:72px; width:964px\" /><br />\n"
   ]
  },
  {
   "cell_type": "code",
   "execution_count": 2,
   "metadata": {
    "ExecuteTime": {
     "end_time": "2019-07-21T21:04:30.818577Z",
     "start_time": "2019-07-21T21:04:30.814998Z"
    },
    "code_folding": [
     0
    ]
   },
   "outputs": [],
   "source": [
    "def F(t,x):\n",
    "    a=gamma((t+1.+x)/2)*gamma((t+1.-x)/2)\n",
    "    b=(2**t)/(np.pi*gamma(t+1))\n",
    "    return a*b"
   ]
  },
  {
   "cell_type": "code",
   "execution_count": 3,
   "metadata": {
    "ExecuteTime": {
     "end_time": "2019-07-21T21:04:51.487895Z",
     "start_time": "2019-07-21T21:04:51.481478Z"
    }
   },
   "outputs": [
    {
     "data": {
      "text/plain": [
       "-0.4515827052894549"
      ]
     },
     "execution_count": 3,
     "metadata": {},
     "output_type": "execute_result"
    }
   ],
   "source": [
    "def logF(t,x):\n",
    "    a=loggamma((t+1.+x)/2)+loggamma((t+1.-x)/2)\n",
    "    b=t*log(2)-(log(np.pi)+loggamma(t+1))\n",
    "    result=a+b\n",
    "    return result\n",
    "logF(1,0)"
   ]
  },
  {
   "cell_type": "markdown",
   "metadata": {},
   "source": [
    "## NormalHedge potential"
   ]
  },
  {
   "cell_type": "code",
   "execution_count": 4,
   "metadata": {
    "ExecuteTime": {
     "end_time": "2019-07-21T21:04:59.021809Z",
     "start_time": "2019-07-21T21:04:59.017279Z"
    }
   },
   "outputs": [],
   "source": [
    "def NH(t,x):\n",
    "    return (1/sqrt(t)) * exp(x**2/(2*t))\n",
    "def logNH(t,x):\n",
    "    return x**2/(2*t) -log(t)/2."
   ]
  },
  {
   "cell_type": "code",
   "execution_count": 5,
   "metadata": {
    "ExecuteTime": {
     "end_time": "2019-07-21T21:04:59.770008Z",
     "start_time": "2019-07-21T21:04:59.562148Z"
    },
    "scrolled": true
   },
   "outputs": [
    {
     "data": {
      "image/png": "[encoded data removed]",
      "text/plain": [
       "<Figure size 432x288 with 1 Axes>"
      ]
     },
     "metadata": {
      "needs_background": "light"
     },
     "output_type": "display_data"
    }
   ],
   "source": [
    "x_range=10\n",
    "t=20\n",
    "x=arange(-x_range,x_range,0.1)\n",
    "y1=np.array([logNH(t,xx) for xx in x])\n",
    "y2=np.array([log(NH(t,xx)) for xx in x])\n",
    "plot(x,y1);\n",
    "plot(x,y2-y1);"
   ]
  },
  {
   "cell_type": "markdown",
   "metadata": {},
   "source": [
    "## KL-divergence potential\n",
    "#### Mcmahan and Abernathy\n",
    "<p><img alt=\"\" src=\"Figs/Mcmahan and Abernathy.png\" style=\"height:200px; width:964px\" /><br />\n",
    "\n",
    "#### KL lower bound on KT estimator\n",
    "<p><img alt=\"\" src=\"Figs/KT-estimator-bound.png\" style=\"height:200px; width:964px\" /><br />"
   ]
  },
  {
   "cell_type": "code",
   "execution_count": 6,
   "metadata": {
    "ExecuteTime": {
     "end_time": "2019-07-21T21:05:00.702121Z",
     "start_time": "2019-07-21T21:05:00.697428Z"
    }
   },
   "outputs": [],
   "source": [
    "def KL(p,q):\n",
    "    return p*log(p/q) + (1-p)*log((1-p)/(1-q))\n",
    "\n",
    "# Lower bound on KT\n",
    "def logLower(t,x):\n",
    "    return  t*KL((1+x/t)/2.,1/2.) - log(2) - log(t)/2\n",
    "# Wealth when P known a-priori\n",
    "def logStoc(t,x):\n",
    "    return  t*KL((1+x/t)/2.,1/2.)\n"
   ]
  },
  {
   "cell_type": "code",
   "execution_count": 7,
   "metadata": {
    "ExecuteTime": {
     "end_time": "2019-07-21T21:05:01.104020Z",
     "start_time": "2019-07-21T21:05:01.100248Z"
    }
   },
   "outputs": [
    {
     "data": {
      "text/plain": [
       "0.020410997260127586"
      ]
     },
     "execution_count": 7,
     "metadata": {},
     "output_type": "execute_result"
    }
   ],
   "source": [
    "KL(0.5,0.6)"
   ]
  },
  {
   "cell_type": "code",
   "execution_count": 8,
   "metadata": {
    "ExecuteTime": {
     "end_time": "2019-07-21T21:05:01.522097Z",
     "start_time": "2019-07-21T21:05:01.515901Z"
    }
   },
   "outputs": [],
   "source": [
    "def plots(x_range=2,t=4):\n",
    "    figure(figsize=[15,10])\n",
    "    x=arange(-x_range,x_range,0.001)\n",
    "    NHp=np.array([logNH(t,xx) for xx in x])\n",
    "    Stocp=np.array([logStoc(t,xx) for xx in x])\n",
    "    Fp=np.array([logF(t,xx) for xx in x])\n",
    "    Lowerp=np.array([logLower(t,xx) for xx in x])\n",
    "    plot(x,NHp-Stocp,label='NormalHedge');\n",
    "    #plot(x,Stocp,label='Stochastic');\n",
    "    plot(x,Fp-Stocp, label='KT potential')\n",
    "    plot(x,Lowerp-Stocp, label='lower bound on KT')\n",
    "    title('xrange=%f, t=%f'%(x_range,t))\n",
    "    grid()\n",
    "    legend()"
   ]
  },
  {
   "cell_type": "code",
   "execution_count": 9,
   "metadata": {
    "ExecuteTime": {
     "end_time": "2019-07-21T21:05:08.752720Z",
     "start_time": "2019-07-21T21:05:01.952694Z"
    }
   },
   "outputs": [
    {
     "data": {
      "image/png": "[encoded data removed]",
      "text/plain": [
       "<Figure size 1080x720 with 1 Axes>"
      ]
     },
     "metadata": {
      "needs_background": "light"
     },
     "output_type": "display_data"
    }
   ],
   "source": [
    "plots(x_range=99.9,t=100)"
   ]
  },
  {
   "cell_type": "markdown",
   "metadata": {},
   "source": [
    "##  comparing rules\n",
    "\n",
    "Let $x = \\sum_i g_i$, $t=1+\\sum_i g_i^2$\n",
    "\n",
    "At least two rules make sense:\n",
    "1. $$ \\frac{x}{t} $$\n",
    "\n",
    "2. $$ \\frac{1}{2} \\left[\\exp\\left( \\frac{(x+1)^2}{2t} \\right) - \\exp\\left( \\frac{(x-1)^2}{2t} \\right) \\right]$$"
   ]
  },
  {
   "cell_type": "code",
   "execution_count": 10,
   "metadata": {
    "ExecuteTime": {
     "end_time": "2019-07-21T21:05:08.758249Z",
     "start_time": "2019-07-21T21:05:08.754866Z"
    }
   },
   "outputs": [],
   "source": [
    "def NHbeta(t,x):\n",
    "    return  (NH(t,x+1)-NH(t,x-1))/(NH(t,x+1) + NH(t,x-1))"
   ]
  },
  {
   "cell_type": "code",
   "execution_count": 11,
   "metadata": {
    "ExecuteTime": {
     "end_time": "2019-07-21T21:05:08.765010Z",
     "start_time": "2019-07-21T21:05:08.760198Z"
    }
   },
   "outputs": [
    {
     "data": {
      "text/plain": [
       "0.4621171572600098"
      ]
     },
     "execution_count": 11,
     "metadata": {},
     "output_type": "execute_result"
    }
   ],
   "source": [
    "NHbeta(2000,1000)"
   ]
  },
  {
   "cell_type": "code",
   "execution_count": 81,
   "metadata": {
    "ExecuteTime": {
     "end_time": "2019-07-21T23:54:24.224109Z",
     "start_time": "2019-07-21T23:54:23.831594Z"
    }
   },
   "outputs": [
    {
     "data": {
      "image/png": "[encoded data removed]",
      "text/plain": [
       "<Figure size 1080x720 with 1 Axes>"
      ]
     },
     "metadata": {
      "needs_background": "light"
     },
     "output_type": "display_data"
    }
   ],
   "source": [
    "scale=100\n",
    "t=scale; x_range=3 * scale\n",
    "figure(figsize=[15,10])\n",
    "x=arange(-x_range,x_range,1)\n",
    "NHb=np.array([NHbeta(t,xx) for xx in x])\n",
    "plot(x,NHb,label='normal hedge');\n",
    "plot(x,x/t,label='x/t');\n",
    "legend();\n",
    "grid()"
   ]
  },
  {
   "cell_type": "code",
   "execution_count": null,
   "metadata": {},
   "outputs": [],
   "source": []
  },
  {
   "cell_type": "markdown",
   "metadata": {},
   "source": [
    "## Testing logF"
   ]
  },
  {
   "cell_type": "code",
   "execution_count": 13,
   "metadata": {
    "ExecuteTime": {
     "end_time": "2019-07-21T21:05:09.421708Z",
     "start_time": "2019-07-21T21:05:09.158018Z"
    }
   },
   "outputs": [
    {
     "name": "stderr",
     "output_type": "stream",
     "text": [
      "/Library/Frameworks/Python.framework/Versions/3.7/lib/python3.7/site-packages/ipykernel_launcher.py:6: RuntimeWarning: invalid value encountered in log\n",
      "  \n"
     ]
    },
    {
     "data": {
      "text/plain": [
       "[<matplotlib.lines.Line2D at 0x10d0a34a8>]"
      ]
     },
     "execution_count": 13,
     "metadata": {},
     "output_type": "execute_result"
    },
    {
     "data": {
      "image/png": "[encoded data removed]",
      "text/plain": [
       "<Figure size 432x288 with 1 Axes>"
      ]
     },
     "metadata": {
      "needs_background": "light"
     },
     "output_type": "display_data"
    }
   ],
   "source": [
    "X=arange(-20,20,0.01)\n",
    "Y=zeros(X.size)\n",
    "Z=zeros(X.size)\n",
    "t=10\n",
    "for i in range(X.shape[0]):\n",
    "    Y[i]=log(F(t,X[i]))\n",
    "    Z[i]=logF(t,X[i])\n",
    "plot(X,Y-Z)"
   ]
  },
  {
   "cell_type": "code",
   "execution_count": 14,
   "metadata": {
    "ExecuteTime": {
     "end_time": "2019-07-21T21:05:09.467830Z",
     "start_time": "2019-07-21T21:05:09.462657Z"
    },
    "scrolled": true
   },
   "outputs": [
    {
     "name": "stderr",
     "output_type": "stream",
     "text": [
      "/Library/Frameworks/Python.framework/Versions/3.7/lib/python3.7/site-packages/ipykernel_launcher.py:4: RuntimeWarning: invalid value encountered in double_scalars\n",
      "  after removing the cwd from sys.path.\n"
     ]
    },
    {
     "data": {
      "text/plain": [
       "(0.2586899392477791, 0.13132809407654267, nan)"
      ]
     },
     "execution_count": 14,
     "metadata": {},
     "output_type": "execute_result"
    }
   ],
   "source": [
    "F(10,1),F(100,10),F(1000,100)"
   ]
  },
  {
   "cell_type": "code",
   "execution_count": 15,
   "metadata": {
    "ExecuteTime": {
     "end_time": "2019-07-21T21:05:11.197863Z",
     "start_time": "2019-07-21T21:05:11.193539Z"
    }
   },
   "outputs": [
    {
     "data": {
      "text/plain": [
       "(-1.352125080195469, -2.0300565519661973, 1.3284461707617083)"
      ]
     },
     "execution_count": 15,
     "metadata": {},
     "output_type": "execute_result"
    }
   ],
   "source": [
    "logF(10,1),logF(100,10),logF(1000,100)"
   ]
  },
  {
   "cell_type": "markdown",
   "metadata": {},
   "source": [
    "## plotting"
   ]
  },
  {
   "cell_type": "code",
   "execution_count": 69,
   "metadata": {
    "ExecuteTime": {
     "end_time": "2019-07-21T23:44:38.727001Z",
     "start_time": "2019-07-21T23:44:38.303294Z"
    },
    "scrolled": false
   },
   "outputs": [
    {
     "data": {
      "image/png": "[encoded data removed]",
      "text/plain": [
       "<Figure size 720x576 with 1 Axes>"
      ]
     },
     "metadata": {
      "needs_background": "light"
     },
     "output_type": "display_data"
    }
   ],
   "source": [
    "figure(figsize=[10,8])\n",
    "for t in [100,1000,10000]:\n",
    "    #r=sqrt(t)*2\n",
    "    r=t\n",
    "    delta=0\n",
    "    delta=logF(t,0)\n",
    "    #print('delta=',delta)\n",
    "    g=1*r\n",
    "    X=np.arange(g*0.9,g*1.01,g/10000)\n",
    "    Y=np.zeros(X.shape[0])\n",
    "    for i in range(X.shape[0]):\n",
    "        if abs(X[i])>1e-10:\n",
    "            Y[i] = logF(t,X[i])/r\n",
    "            #Y[i] = (logF(t,X[i])-delta)-(X[i]**2)/(2*t)\n",
    "        else:\n",
    "            Y[i]=np.nan\n",
    "    plot(X/r,Y,label=str(t))\n",
    "\n",
    "g=1\n",
    "X=np.arange(g*0.9,1.01*g,g/10000)\n",
    "#plot(X,(X**2)-sqrt(t),label='normalHedgeLower')\n",
    "plot(X,(X**2)/2,label='normalHedge')\n",
    "xlim([0.9,1.025])\n",
    "ylim([0.4,0.75])\n",
    "legend()\n",
    "grid()"
   ]
  },
  {
   "cell_type": "code",
   "execution_count": null,
   "metadata": {
    "ExecuteTime": {
     "end_time": "2019-06-03T22:19:31.026348Z",
     "start_time": "2019-06-03T22:19:30.697912Z"
    }
   },
   "outputs": [],
   "source": [
    "T=arange(1,100000,10)\n",
    "Y=zeros(T.shape[0])\n",
    "for i in range(T.shape[0]):\n",
    "    Y[i] = logF(T[i],0)*T[i]+6*T[i]\n",
    "plot(T,Y);"
   ]
  },
  {
   "cell_type": "code",
   "execution_count": null,
   "metadata": {
    "ExecuteTime": {
     "end_time": "2019-06-03T20:15:58.072438Z",
     "start_time": "2019-06-03T20:15:58.068250Z"
    }
   },
   "outputs": [],
   "source": [
    "X.shape"
   ]
  },
  {
   "cell_type": "markdown",
   "metadata": {},
   "source": [
    "### Define recursive condition\n",
    "<img alt=\"\" src=\"Figs/Condition.png\" style=\"height:62px; width:964px\" />"
   ]
  },
  {
   "cell_type": "code",
   "execution_count": null,
   "metadata": {
    "ExecuteTime": {
     "end_time": "2019-06-03T20:15:59.838078Z",
     "start_time": "2019-06-03T20:15:59.834713Z"
    }
   },
   "outputs": [],
   "source": [
    "def beta(t,x):\n",
    "    return (F(t,x+1)-F(t,x-1))/(F(t,x+1)+F(t,x-1))"
   ]
  },
  {
   "cell_type": "code",
   "execution_count": null,
   "metadata": {
    "ExecuteTime": {
     "end_time": "2019-06-03T20:16:00.254775Z",
     "start_time": "2019-06-03T20:16:00.251923Z"
    }
   },
   "outputs": [],
   "source": [
    "def upper(g,x,t):\n",
    "    return (1+g*beta(t,x))*F(t-1,x)"
   ]
  },
  {
   "cell_type": "markdown",
   "metadata": {},
   "source": [
    "### Visualize recursive condition"
   ]
  },
  {
   "cell_type": "code",
   "execution_count": null,
   "metadata": {
    "ExecuteTime": {
     "end_time": "2019-06-03T20:16:01.057023Z",
     "start_time": "2019-06-03T20:16:01.051845Z"
    }
   },
   "outputs": [],
   "source": [
    "x=-1\n",
    "epsilon=0.001\n",
    "deriv=(F(t-1,x+epsilon)-F(t-1,x-epsilon))/(2*epsilon)\n",
    "deriv"
   ]
  },
  {
   "cell_type": "code",
   "execution_count": null,
   "metadata": {
    "ExecuteTime": {
     "end_time": "2019-06-03T20:16:01.624084Z",
     "start_time": "2019-06-03T20:16:01.603696Z"
    }
   },
   "outputs": [],
   "source": [
    "x=-1; t=100;\n",
    "X=arange(-1,+1,0.01)\n",
    "Fv=np.zeros(len(X))\n",
    "Fv1=np.zeros(len(X))\n",
    "U=np.zeros(len(X))\n",
    "W=np.zeros(len(X))\n",
    "for i in range(X.shape[0]):\n",
    "    Fv[i]=F(t,x+X[i])\n",
    "    Fv1[i]=F(t-1,x+X[i])\n",
    "    U[i]=upper(X[i],x,t)\n",
    "    W[i]=F(t,x-1) + deriv*(X[i]+1)\n",
    "#plot(X,W,label='slope based bound')"
   ]
  },
  {
   "cell_type": "code",
   "execution_count": null,
   "metadata": {
    "ExecuteTime": {
     "end_time": "2019-06-03T20:16:02.306880Z",
     "start_time": "2019-06-03T20:16:02.002367Z"
    }
   },
   "outputs": [],
   "source": [
    "figure(figsize=[10,8])\n",
    "plot(X,Fv,label='F(t)')\n",
    "plot(X,Fv1,label='F(t-1)')\n",
    "plot(X,U,label='upper bound')\n",
    "plot(X,W,label='slope based bound')\n",
    "#xlim([-0.3,0.3])\n",
    "legend()"
   ]
  },
  {
   "cell_type": "markdown",
   "metadata": {},
   "source": [
    "### We are using the finite step slope"
   ]
  },
  {
   "cell_type": "code",
   "execution_count": null,
   "metadata": {
    "ExecuteTime": {
     "end_time": "2019-06-03T20:16:03.360658Z",
     "start_time": "2019-06-03T20:16:03.355259Z"
    }
   },
   "outputs": [],
   "source": [
    "(F(t,x+1)-F(t,x-1))/2"
   ]
  },
  {
   "cell_type": "markdown",
   "metadata": {},
   "source": [
    "### We should be using the slope of F at (t-1,x)"
   ]
  },
  {
   "cell_type": "code",
   "execution_count": null,
   "metadata": {
    "ExecuteTime": {
     "end_time": "2019-06-03T20:16:04.128743Z",
     "start_time": "2019-06-03T20:16:04.123651Z"
    }
   },
   "outputs": [],
   "source": [
    "epsilon=0.001\n",
    "deriv=(F(t-1,x+epsilon)-F(t-1,x-epsilon))/(2*epsilon)\n",
    "deriv"
   ]
  },
  {
   "cell_type": "code",
   "execution_count": null,
   "metadata": {
    "ExecuteTime": {
     "end_time": "2019-06-03T20:16:04.762925Z",
     "start_time": "2019-06-03T20:16:04.489556Z"
    }
   },
   "outputs": [],
   "source": [
    "figure(figsize=[10,8])\n",
    "plot(X,Fv,label='F(t)')\n",
    "plot(X,Fv1,label='F(t-1)')\n",
    "plot(X,U,label='upper bound')\n",
    "plot(X,W,label='slope based bound')\n",
    "xlim([0.9,1.0])\n",
    "ylim(F(t,x+1),F(t,x+1)+0.0001)\n",
    "legend()"
   ]
  },
  {
   "cell_type": "code",
   "execution_count": null,
   "metadata": {
    "ExecuteTime": {
     "end_time": "2019-06-03T20:16:04.927697Z",
     "start_time": "2019-06-03T20:16:04.923484Z"
    }
   },
   "outputs": [],
   "source": [
    "# taking derivative (see symbolic manipulation notebook)\n",
    "def D(t,x):\n",
    "    return 2**t*(-polygamma(0, t/2 - x/2 + 0.5) + polygamma(0, t/2 + x/2 + 0.5))*gamma(t/2 - x/2 + 0.5)*gamma(t/2 + x/2 + 0.5)/(2*pi*gamma(t + 1))"
   ]
  },
  {
   "cell_type": "code",
   "execution_count": null,
   "metadata": {
    "ExecuteTime": {
     "end_time": "2019-06-03T20:16:05.521803Z",
     "start_time": "2019-06-03T20:16:05.515784Z"
    }
   },
   "outputs": [],
   "source": [
    "def D2(t,x):\n",
    "    r=2**t*(polygamma(0, t/2 - x/2 + 0.5)**2 - 2*polygamma(0, t/2 - x/2 + 0.5)*\\\n",
    "                 polygamma(0, t/2 + x/2 + 0.5) + polygamma(0, t/2 + x/2 + 0.5)**2 + polygamma(1, t/2 - x/2 + 0.5) + polygamma(1, t/2 + x/2 + 0.5))*gamma(t/2 - x/2 + 0.5)*gamma(t/2 + x/2 + 0.5)/(4*pi*gamma(t + 1))\n",
    "    if abs(r)<100:\n",
    "        return r\n",
    "    else:\n",
    "        return 0"
   ]
  },
  {
   "cell_type": "code",
   "execution_count": null,
   "metadata": {
    "ExecuteTime": {
     "end_time": "2019-06-03T20:16:06.055410Z",
     "start_time": "2019-06-03T20:16:05.962919Z"
    },
    "scrolled": false
   },
   "outputs": [],
   "source": [
    "figure(figsize=[10,8])\n",
    "X=arange(-3,3,0.01)\n",
    "Y1=np.zeros(len(X))\n",
    "Y2=np.zeros(len(X))\n",
    "t=3\n",
    "for i in range(X.shape[0]):\n",
    "    Y[i] = F(t,X[i])\n",
    "    Y1[i] = D(t,X[i])\n",
    "    Y2[i] = D2(t,X[i])\n",
    "\n",
    "plot(X,Y,label='F')\n",
    "plot(X,Y1,label='D')\n",
    "plot(X,Y2,label='D2')\n",
    "legend()\n",
    "grid()"
   ]
  },
  {
   "cell_type": "markdown",
   "metadata": {},
   "source": [
    "### Evaluating change to Lemma 7 in Coin Betting and Parameter-Free online learning"
   ]
  },
  {
   "cell_type": "code",
   "execution_count": null,
   "metadata": {
    "ExecuteTime": {
     "end_time": "2019-06-03T20:16:06.899074Z",
     "start_time": "2019-06-03T20:16:06.891678Z"
    }
   },
   "outputs": [],
   "source": [
    "%pylab inline"
   ]
  },
  {
   "cell_type": "code",
   "execution_count": null,
   "metadata": {
    "ExecuteTime": {
     "end_time": "2019-06-03T20:16:07.761948Z",
     "start_time": "2019-06-03T20:16:07.563495Z"
    }
   },
   "outputs": [],
   "source": [
    "beta=-0.9\n",
    "g=np.arange(-1,1,0.01)\n",
    "T = log(1+g*beta)\n",
    "\n",
    "a=1.\n",
    "L = g*beta -a*(g*beta)**2; #+(g*beta)**3\n",
    "\n",
    "plot(g,T,label='True')\n",
    "plot(g,L,label='Lower Bounds')\n",
    "\n",
    "W=(g+1)/2\n",
    "Lin = W*log(1+beta)+(1-W)*log(1-beta)\n",
    "plot(g,Lin,label='linear')\n",
    "legend()"
   ]
  },
  {
   "cell_type": "code",
   "execution_count": null,
   "metadata": {
    "ExecuteTime": {
     "end_time": "2019-06-03T20:16:08.636696Z",
     "start_time": "2019-06-03T20:16:08.467830Z"
    }
   },
   "outputs": [],
   "source": [
    "plot(g,T-L)\n",
    "grid()"
   ]
  },
  {
   "cell_type": "code",
   "execution_count": null,
   "metadata": {},
   "outputs": [],
   "source": []
  },
  {
   "cell_type": "code",
   "execution_count": null,
   "metadata": {},
   "outputs": [],
   "source": []
  }
 ],
 "metadata": {
  "hide_input": false,
  "kernelspec": {
   "display_name": "Python 3",
   "language": "python",
   "name": "python3"
  },
  "language_info": {
   "codemirror_mode": {
    "name": "ipython",
    "version": 3
   },
   "file_extension": ".py",
   "mimetype": "text/x-python",
   "name": "python",
   "nbconvert_exporter": "python",
   "pygments_lexer": "ipython3",
   "version": "3.7.2"
  },
  "toc": {
   "base_numbering": 1,
   "nav_menu": {},
   "number_sections": true,
   "sideBar": true,
   "skip_h1_title": false,
   "title_cell": "Table of Contents",
   "title_sidebar": "Contents",
   "toc_cell": false,
   "toc_position": {},
   "toc_section_display": true,
   "toc_window_display": false
  }
 },
 "nbformat": 4,
 "nbformat_minor": 2
}
