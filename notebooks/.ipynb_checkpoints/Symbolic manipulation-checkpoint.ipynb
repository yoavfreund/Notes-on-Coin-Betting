{
 "cells": [
  {
   "cell_type": "code",
   "execution_count": 1,
   "metadata": {
    "ExecuteTime": {
     "end_time": "2019-04-30T21:27:54.162371Z",
     "start_time": "2019-04-30T21:27:53.749206Z"
    }
   },
   "outputs": [],
   "source": [
    "from sympy import *"
   ]
  },
  {
   "cell_type": "code",
   "execution_count": 14,
   "metadata": {
    "ExecuteTime": {
     "end_time": "2019-04-30T21:36:07.817185Z",
     "start_time": "2019-04-30T21:36:07.798484Z"
    }
   },
   "outputs": [],
   "source": [
    "init_printing()"
   ]
  },
  {
   "cell_type": "code",
   "execution_count": 15,
   "metadata": {
    "ExecuteTime": {
     "end_time": "2019-04-30T21:36:08.224757Z",
     "start_time": "2019-04-30T21:36:08.222267Z"
    }
   },
   "outputs": [],
   "source": [
    "x, t = symbols('x t')"
   ]
  },
  {
   "cell_type": "code",
   "execution_count": 16,
   "metadata": {
    "ExecuteTime": {
     "end_time": "2019-04-30T21:36:09.764227Z",
     "start_time": "2019-04-30T21:36:08.566330Z"
    },
    "scrolled": true
   },
   "outputs": [
    {
     "data": {
      "image/png": "[encoded data removed]",
      "text/latex": [
       "$$\\Gamma\\left(x\\right)$$"
      ],
      "text/plain": [
       "Γ(x)"
      ]
     },
     "execution_count": 16,
     "metadata": {},
     "output_type": "execute_result"
    }
   ],
   "source": [
    "gamma(x)"
   ]
  },
  {
   "cell_type": "code",
   "execution_count": 17,
   "metadata": {
    "ExecuteTime": {
     "end_time": "2019-04-30T21:36:09.772401Z",
     "start_time": "2019-04-30T21:36:09.767347Z"
    }
   },
   "outputs": [],
   "source": [
    "F=gamma((t+1.+x)/2)*gamma((t+1.-x)/2)*(2**t)/(pi*gamma(t+1))"
   ]
  },
  {
   "cell_type": "code",
   "execution_count": 18,
   "metadata": {
    "ExecuteTime": {
     "end_time": "2019-04-30T21:36:10.890262Z",
     "start_time": "2019-04-30T21:36:09.773889Z"
    }
   },
   "outputs": [
    {
     "data": {
      "image/png": "[encoded data removed]",
      "text/latex": [
       "$$- \\frac{2^{t} \\Gamma\\left(\\frac{t}{2} - \\frac{x}{2} + 0.5\\right) \\Gamma\\left(\\frac{t}{2} + \\frac{x}{2} + 0.5\\right) \\operatorname{polygamma}{\\left (0,\\frac{t}{2} - \\frac{x}{2} + 0.5 \\right )}}{2 \\pi \\Gamma\\left(t + 1\\right)} + \\frac{2^{t} \\Gamma\\left(\\frac{t}{2} - \\frac{x}{2} + 0.5\\right) \\Gamma\\left(\\frac{t}{2} + \\frac{x}{2} + 0.5\\right) \\operatorname{polygamma}{\\left (0,\\frac{t}{2} + \\frac{x}{2} + 0.5 \\right )}}{2 \\pi \\Gamma\\left(t + 1\\right)}$$"
      ],
      "text/plain": [
       "   t  ⎛t   x      ⎞  ⎛t   x      ⎞          ⎛   t   x      ⎞    t  ⎛t   x     \n",
       "  2 ⋅Γ⎜─ - ─ + 0.5⎟⋅Γ⎜─ + ─ + 0.5⎟⋅polygamma⎜0, ─ - ─ + 0.5⎟   2 ⋅Γ⎜─ - ─ + 0.\n",
       "      ⎝2   2      ⎠  ⎝2   2      ⎠          ⎝   2   2      ⎠       ⎝2   2     \n",
       "- ────────────────────────────────────────────────────────── + ───────────────\n",
       "                         2⋅π⋅Γ(t + 1)                                         \n",
       "\n",
       " ⎞  ⎛t   x      ⎞          ⎛   t   x      ⎞\n",
       "5⎟⋅Γ⎜─ + ─ + 0.5⎟⋅polygamma⎜0, ─ + ─ + 0.5⎟\n",
       " ⎠  ⎝2   2      ⎠          ⎝   2   2      ⎠\n",
       "───────────────────────────────────────────\n",
       "        2⋅π⋅Γ(t + 1)                       "
      ]
     },
     "execution_count": 18,
     "metadata": {},
     "output_type": "execute_result"
    }
   ],
   "source": [
    "a=diff(F,x)\n",
    "a"
   ]
  },
  {
   "cell_type": "code",
   "execution_count": 19,
   "metadata": {
    "ExecuteTime": {
     "end_time": "2019-04-30T21:36:12.015398Z",
     "start_time": "2019-04-30T21:36:10.893283Z"
    }
   },
   "outputs": [
    {
     "data": {
      "image/png": "[encoded data removed]",
      "text/latex": [
       "$$\\frac{2^{t} \\left(- \\operatorname{polygamma}{\\left (0,\\frac{t}{2} - \\frac{x}{2} + 0.5 \\right )} + \\operatorname{polygamma}{\\left (0,\\frac{t}{2} + \\frac{x}{2} + 0.5 \\right )}\\right) \\Gamma\\left(\\frac{t}{2} - \\frac{x}{2} + 0.5\\right) \\Gamma\\left(\\frac{t}{2} + \\frac{x}{2} + 0.5\\right)}{2 \\pi \\Gamma\\left(t + 1\\right)}$$"
      ],
      "text/plain": [
       " t ⎛           ⎛   t   x      ⎞            ⎛   t   x      ⎞⎞  ⎛t   x      ⎞  ⎛\n",
       "2 ⋅⎜- polygamma⎜0, ─ - ─ + 0.5⎟ + polygamma⎜0, ─ + ─ + 0.5⎟⎟⋅Γ⎜─ - ─ + 0.5⎟⋅Γ⎜\n",
       "   ⎝           ⎝   2   2      ⎠            ⎝   2   2      ⎠⎠  ⎝2   2      ⎠  ⎝\n",
       "──────────────────────────────────────────────────────────────────────────────\n",
       "                                       2⋅π⋅Γ(t + 1)                           \n",
       "\n",
       "t   x      ⎞\n",
       "─ + ─ + 0.5⎟\n",
       "2   2      ⎠\n",
       "────────────\n",
       "            "
      ]
     },
     "execution_count": 19,
     "metadata": {},
     "output_type": "execute_result"
    }
   ],
   "source": [
    "a.simplify()"
   ]
  },
  {
   "cell_type": "code",
   "execution_count": 20,
   "metadata": {
    "ExecuteTime": {
     "end_time": "2019-04-30T21:36:13.120807Z",
     "start_time": "2019-04-30T21:36:12.017856Z"
    }
   },
   "outputs": [
    {
     "data": {
      "image/png": "[encoded data removed]",
      "text/latex": [
       "$$\\frac{2^{t} \\left(\\operatorname{polygamma}^{2}{\\left (0,\\frac{t}{2} - \\frac{x}{2} + 0.5 \\right )} - 2 \\operatorname{polygamma}{\\left (0,\\frac{t}{2} - \\frac{x}{2} + 0.5 \\right )} \\operatorname{polygamma}{\\left (0,\\frac{t}{2} + \\frac{x}{2} + 0.5 \\right )} + \\operatorname{polygamma}^{2}{\\left (0,\\frac{t}{2} + \\frac{x}{2} + 0.5 \\right )} + \\operatorname{polygamma}{\\left (1,\\frac{t}{2} - \\frac{x}{2} + 0.5 \\right )} + \\operatorname{polygamma}{\\left (1,\\frac{t}{2} + \\frac{x}{2} + 0.5 \\right )}\\right) \\Gamma\\left(\\frac{t - x + 1.0}{2}\\right) \\Gamma\\left(\\frac{t + x + 1.0}{2}\\right)}{4 \\pi \\Gamma\\left(t + 1\\right)}$$"
      ],
      "text/plain": [
       " t ⎛         2⎛   t   x      ⎞              ⎛   t   x      ⎞          ⎛   t   \n",
       "2 ⋅⎜polygamma ⎜0, ─ - ─ + 0.5⎟ - 2⋅polygamma⎜0, ─ - ─ + 0.5⎟⋅polygamma⎜0, ─ + \n",
       "   ⎝          ⎝   2   2      ⎠              ⎝   2   2      ⎠          ⎝   2   \n",
       "──────────────────────────────────────────────────────────────────────────────\n",
       "                                                                              \n",
       "\n",
       "x      ⎞            2⎛   t   x      ⎞            ⎛   t   x      ⎞            ⎛\n",
       "─ + 0.5⎟ + polygamma ⎜0, ─ + ─ + 0.5⎟ + polygamma⎜1, ─ - ─ + 0.5⎟ + polygamma⎜\n",
       "2      ⎠             ⎝   2   2      ⎠            ⎝   2   2      ⎠            ⎝\n",
       "──────────────────────────────────────────────────────────────────────────────\n",
       "                 4⋅π⋅Γ(t + 1)                                                 \n",
       "\n",
       "   t   x      ⎞⎞  ⎛t - x + 1.0⎞  ⎛t + x + 1.0⎞\n",
       "1, ─ + ─ + 0.5⎟⎟⋅Γ⎜───────────⎟⋅Γ⎜───────────⎟\n",
       "   2   2      ⎠⎠  ⎝     2     ⎠  ⎝     2     ⎠\n",
       "──────────────────────────────────────────────\n",
       "                                              "
      ]
     },
     "execution_count": 20,
     "metadata": {},
     "output_type": "execute_result"
    }
   ],
   "source": [
    "b=diff(F,x,x)\n",
    "b"
   ]
  },
  {
   "cell_type": "code",
   "execution_count": 21,
   "metadata": {
    "ExecuteTime": {
     "end_time": "2019-04-30T21:36:14.352819Z",
     "start_time": "2019-04-30T21:36:13.123024Z"
    }
   },
   "outputs": [
    {
     "data": {
      "image/png": "[encoded data removed]",
      "text/latex": [
       "$$\\frac{2^{t} \\left(\\operatorname{polygamma}^{2}{\\left (0,\\frac{t}{2} - \\frac{x}{2} + 0.5 \\right )} - 2 \\operatorname{polygamma}{\\left (0,\\frac{t}{2} - \\frac{x}{2} + 0.5 \\right )} \\operatorname{polygamma}{\\left (0,\\frac{t}{2} + \\frac{x}{2} + 0.5 \\right )} + \\operatorname{polygamma}^{2}{\\left (0,\\frac{t}{2} + \\frac{x}{2} + 0.5 \\right )} + \\operatorname{polygamma}{\\left (1,\\frac{t}{2} - \\frac{x}{2} + 0.5 \\right )} + \\operatorname{polygamma}{\\left (1,\\frac{t}{2} + \\frac{x}{2} + 0.5 \\right )}\\right) \\Gamma\\left(\\frac{t}{2} - \\frac{x}{2} + 0.5\\right) \\Gamma\\left(\\frac{t}{2} + \\frac{x}{2} + 0.5\\right)}{4 \\pi \\Gamma\\left(t + 1\\right)}$$"
      ],
      "text/plain": [
       " t ⎛         2⎛   t   x      ⎞              ⎛   t   x      ⎞          ⎛   t   \n",
       "2 ⋅⎜polygamma ⎜0, ─ - ─ + 0.5⎟ - 2⋅polygamma⎜0, ─ - ─ + 0.5⎟⋅polygamma⎜0, ─ + \n",
       "   ⎝          ⎝   2   2      ⎠              ⎝   2   2      ⎠          ⎝   2   \n",
       "──────────────────────────────────────────────────────────────────────────────\n",
       "                                                                              \n",
       "\n",
       "x      ⎞            2⎛   t   x      ⎞            ⎛   t   x      ⎞            ⎛\n",
       "─ + 0.5⎟ + polygamma ⎜0, ─ + ─ + 0.5⎟ + polygamma⎜1, ─ - ─ + 0.5⎟ + polygamma⎜\n",
       "2      ⎠             ⎝   2   2      ⎠            ⎝   2   2      ⎠            ⎝\n",
       "──────────────────────────────────────────────────────────────────────────────\n",
       "                 4⋅π⋅Γ(t + 1)                                                 \n",
       "\n",
       "   t   x      ⎞⎞  ⎛t   x      ⎞  ⎛t   x      ⎞\n",
       "1, ─ + ─ + 0.5⎟⎟⋅Γ⎜─ - ─ + 0.5⎟⋅Γ⎜─ + ─ + 0.5⎟\n",
       "   2   2      ⎠⎠  ⎝2   2      ⎠  ⎝2   2      ⎠\n",
       "──────────────────────────────────────────────\n",
       "                                              "
      ]
     },
     "execution_count": 21,
     "metadata": {},
     "output_type": "execute_result"
    }
   ],
   "source": [
    "b.simplify()"
   ]
  },
  {
   "cell_type": "code",
   "execution_count": 23,
   "metadata": {
    "ExecuteTime": {
     "end_time": "2019-04-30T21:37:14.939273Z",
     "start_time": "2019-04-30T21:37:13.844371Z"
    }
   },
   "outputs": [
    {
     "data": {
      "image/png": "[encoded data removed]",
      "text/latex": [
       "$$\\operatorname{polygamma}{\\left (0,x \\right )}$$"
      ],
      "text/plain": [
       "polygamma(0, x)"
      ]
     },
     "execution_count": 23,
     "metadata": {},
     "output_type": "execute_result"
    }
   ],
   "source": [
    "polygamma(0,x)"
   ]
  },
  {
   "cell_type": "code",
   "execution_count": null,
   "metadata": {},
   "outputs": [],
   "source": []
  }
 ],
 "metadata": {
  "hide_input": false,
  "kernelspec": {
   "display_name": "Python 3",
   "language": "python",
   "name": "python3"
  },
  "language_info": {
   "codemirror_mode": {
    "name": "ipython",
    "version": 3
   },
   "file_extension": ".py",
   "mimetype": "text/x-python",
   "name": "python",
   "nbconvert_exporter": "python",
   "pygments_lexer": "ipython3",
   "version": "3.7.2"
  },
  "toc": {
   "base_numbering": 1,
   "nav_menu": {},
   "number_sections": true,
   "sideBar": true,
   "skip_h1_title": false,
   "title_cell": "Table of Contents",
   "title_sidebar": "Contents",
   "toc_cell": false,
   "toc_position": {},
   "toc_section_display": true,
   "toc_window_display": false
  }
 },
 "nbformat": 4,
 "nbformat_minor": 2
}
